{
 "cells": [
  {
   "cell_type": "markdown",
   "metadata": {},
   "source": [
    "# **Spotify project**\n",
    "<font size=\"3\">\n",
    "\n",
    "Introducción al Datascience - Universidad Católica del Norte - 2023\n",
    "\n",
    "**Estudiantes:**\n",
    "- **Carlo Ramírez**\n",
    "- **Joaquín Pinto**\n",
    "- **Marcelo Céspedes**\n",
    "\n",
    "Este proyecto tiene como finalidad hacer un **análisis exploratorio** de los datos recopilados sobre las canciones más escuchadas en Spotify 2023 **'spotify-2023.csv'**.\n",
    "Este conjunto de datos incluye un listado completo de las canciones más famosas del 2023 en Spotify, ofreciendo una amplia gama de características que van más allá de lo habitual en conjuntos similares.\n",
    "\n",
    "El resumen de los datos que contiene es el siguiente:\n",
    "\n",
    "</font>\n",
    "\n",
    "<font size=\"2\">\n",
    "\n",
    "- **track_name**: Nombre de la canción\n",
    "- **artist(s)_name**: Nombre del(los) artista(s) de la canción\n",
    "- **artist_count**: Número de artistas que contribuyen a la canción\n",
    "- **released_year**: Año de lanzamiento de la canción\n",
    "- **released_month**: Mes de lanzamiento de la canción\n",
    "- **released_day**: Día del mes en que se lanzó la canción\n",
    "- **in_spotify_playlists**: Número de listas de reproducción de Spotify en las que se incluye la canción\n",
    "- **in_spotify_charts**: Presencia y posición de la canción en las listas de Spotify\n",
    "- **streams**: Número total de reproducciones en Spotify\n",
    "- **in_apple_playlists**: Número de listas de reproducción de Apple Music en las que se incluye la canción\n",
    "- **in_apple_charts**: Presencia y posición de la canción en las listas de Apple Music\n",
    "- **in_deezer_playlists**: Número de listas de reproducción de Deezer en las que se incluye la canción\n",
    "- **in_deezer_charts**: Presencia y posición de la canción en las listas de Deezer\n",
    "- **in_shazam_charts**: Presencia y posición de la canción en las listas de Shazam\n",
    "- **bpm**: Latidos por minuto, una medida del tempo de la canción\n",
    "- **key**: Tonalidad de la canción\n",
    "- **mode**: Modo de la canción (mayor o menor)\n",
    "- **danceability%**: Porcentaje que indica la idoneidad de la canción para bailar\n",
    "- **valence_%**: Positividad del contenido musical de la canción\n",
    "- **energy_%**: Nivel percibido de energía de la canción\n",
    "- **acousticness_%**: Cantidad de sonido acústico en la canción\n",
    "- **instrumentalness_%**: Cantidad de contenido instrumental en la canción\n",
    "- **liveness_%**: Presencia de elementos de actuación en vivo\n",
    "- **speechiness_%**: Cantidad de palabras habladas en la canción\n",
    "\n",
    "</font>"
   ]
  },
  {
   "cell_type": "markdown",
   "metadata": {},
   "source": [
    "## #0 Librerías\n",
    "<font size=\"2\">\n",
    "\n",
    "Se importan las librerías a utilizar en el análisis.\n",
    "</font>"
   ]
  },
  {
   "cell_type": "code",
   "execution_count": 117,
   "metadata": {},
   "outputs": [],
   "source": [
    "import pandas as pd\n",
    "import seaborn as sns\n",
    "import matplotlib.pyplot as plt\n",
    "from sklearn.preprocessing import MinMaxScaler"
   ]
  },
  {
   "cell_type": "markdown",
   "metadata": {},
   "source": [
    "## #1 Carga de datos\n",
    "<font size=\"2\">\n",
    "\n",
    "Se cargan los datos de **'spotify-2023.csv'** en un dataframe usando pandas.\n",
    "</font>"
   ]
  },
  {
   "cell_type": "code",
   "execution_count": 118,
   "metadata": {},
   "outputs": [],
   "source": [
    "# Cargar los datos\n",
    "file_path = './spotify-2023.csv'\n",
    "spotify_data = pd.read_csv(file_path, encoding='ISO-8859-1')"
   ]
  },
  {
   "cell_type": "markdown",
   "metadata": {},
   "source": [
    "## #2 Resumen inicial de los datos\n",
    "<font size=\"2\">\n",
    "\n",
    "Se describen los datos cargados para tener una visualización inicial y poder trabajarlos.\n",
    "</font>"
   ]
  },
  {
   "cell_type": "code",
   "execution_count": 119,
   "metadata": {},
   "outputs": [],
   "source": [
    "# Definimos las columnas que son números\n",
    "number_cols = ['artist_count', 'released_year', 'released_month', 'released_day', 'bpm', 'streams',\n",
    "               'in_spotify_playlists', 'in_apple_playlists', 'in_deezer_playlists', 'in_spotify_charts', 'in_apple_charts', 'in_deezer_charts', 'in_shazam_charts',  \n",
    "               'danceability_%', 'valence_%', 'energy_%', 'acousticness_%', 'instrumentalness_%', 'liveness_%', 'speechiness_%']\n",
    "\n",
    "# Limpiamos valores faltantes previamente visualizados\n",
    "spotify_data = spotify_data.dropna(subset=['key'])\n",
    "\n",
    "# Luego convertimos cada columna en number_cols a entero y rellenamos con 0 en caso de ser necesario\n",
    "for col in number_cols:\n",
    "    spotify_data[col] = pd.to_numeric(spotify_data[col], downcast='integer', errors='coerce')\n",
    "    spotify_data[col] = spotify_data[col].fillna(0)\n",
    "    spotify_data[col] = spotify_data[col].astype('int64')"
   ]
  },
  {
   "cell_type": "markdown",
   "metadata": {},
   "source": [
    "<font size=\"2\">\n",
    "\n",
    "Se puede observar que aproximadamente desde el **2021** al **2023** hay grandes cantidades de datos, pero para atrás no muchos (o no tan significativos), por lo tanto el análisis tendrá más influencia por los datos en este rango de tiempo.\n",
    "</font>"
   ]
  },
  {
   "cell_type": "markdown",
   "metadata": {},
   "source": [
    "<font size=\"2\">\n",
    "\n",
    "Se puede visualizar aquí una relación proporcional entre el % de **energía**, y el % de **danzabilidad** que tienen las canciones, factor que tiene sentido en el conjunto de datos.\n",
    "</font>"
   ]
  },
  {
   "cell_type": "markdown",
   "metadata": {},
   "source": [
    "## #5 Normalización de datos\n",
    "\n",
    "<font size=\"2\">\n",
    "\n",
    "Para analizar los datos de forma más coherente en magnitud, se normalizarán las columnas numéricas relevantes identificadas.\n",
    "</font>"
   ]
  },
  {
   "cell_type": "code",
   "execution_count": 120,
   "metadata": {},
   "outputs": [],
   "source": [
    "# Normalizar todas las columnas relevantes\n",
    "scaler = MinMaxScaler()\n",
    "to_normalize_cols = ['in_spotify_playlists', 'in_spotify_charts', 'streams',\n",
    "                         'in_apple_playlists', 'in_apple_charts', 'in_deezer_playlists',\n",
    "                         'in_deezer_charts', 'in_shazam_charts', 'bpm']\n",
    "\n",
    "percentage_columns = ['danceability_%', 'valence_%', 'energy_%', 'acousticness_%', 'instrumentalness_%', 'liveness_%', 'speechiness_%']\n",
    "\n",
    "# Escalar los valores de porcentaje a una escala de 0 a 1\n",
    "spotify_data[percentage_columns] = spotify_data[percentage_columns] / 100.0\n",
    "\n",
    "spotify_data_normalized = spotify_data.copy()\n",
    "spotify_data_normalized[to_normalize_cols] = scaler.fit_transform(spotify_data[to_normalize_cols])"
   ]
  },
  {
   "cell_type": "markdown",
   "metadata": {},
   "source": [
    "## #6 Análisis de correlación entre la cantidad de **streams** y la presencia en plataformas digitales\n",
    "\n",
    "<font size=\"2\">\n",
    "\n",
    "Se visualizará cuál es la correlación que existe entre la cantidad de streams y la presencia en diversas plataformas digitales, en este caso **Spotify**, **Apple**, **Deezer** y **Shazam**.\n",
    "</font>"
   ]
  },
  {
   "cell_type": "markdown",
   "metadata": {},
   "source": [
    "<font size=\"2\">\n",
    "\n",
    "Se puede observar que la presencia de cada canción en las playlist de **Spotify**, **Apple** y **Deezer** (aunque menor) parece tener un gran impacto en la cantidad de streams que alcanza cada canción.\n",
    "</font>"
   ]
  },
  {
   "cell_type": "code",
   "execution_count": 131,
   "metadata": {},
   "outputs": [
    {
     "name": "stdout",
     "output_type": "stream",
     "text": [
      "CPU times: total: 203 ms\n",
      "Wall time: 67.7 ms\n",
      "SM1: R2 = 0.9881325302924402, MAE = 0.005479185151101074, RMSE = 0.017510116882462384\n"
     ]
    }
   ],
   "source": [
    "import pandas as pd\n",
    "from sklearn.model_selection import train_test_split\n",
    "from sklearn.ensemble import RandomForestRegressor\n",
    "from sklearn.metrics import mean_squared_error, mean_absolute_error, r2_score\n",
    "from sklearn.preprocessing import MinMaxScaler\n",
    "from xgboost import XGBRegressor\n",
    "\n",
    "# Invertir las características con relación inversa a streams\n",
    "spotify_data_normalized['inv_acousticness'] = 1 - spotify_data_normalized['acousticness_%']\n",
    "spotify_data_normalized['inv_instrumentalness'] = 1 - spotify_data_normalized['instrumentalness_%']\n",
    "spotify_data_normalized['inv_liveness'] = 1 - spotify_data_normalized['liveness_%']\n",
    "spotify_data_normalized['inv_speechiness'] = 1 - spotify_data_normalized['speechiness_%']\n",
    "\n",
    "# Seleccionar las características (variables independientes) para el modelo\n",
    "features = spotify_data_normalized[['in_spotify_playlists', 'in_spotify_charts', 'streams',\n",
    "                         'in_apple_playlists', 'in_apple_charts', 'in_deezer_playlists',\n",
    "                         'in_deezer_charts', 'in_shazam_charts', 'bpm', 'danceability_%',\n",
    "                         'valence_%', 'energy_%', 'inv_acousticness', 'inv_instrumentalness',\n",
    "                         'inv_liveness', 'inv_speechiness']]\n",
    "\n",
    "# Seleccionar las variables dependientes (target)\n",
    "target_columns = ['streams']\n",
    "target = spotify_data_normalized[target_columns]\n",
    "\n",
    "# Dividir los datos en conjuntos de entrenamiento y prueba\n",
    "X_train, X_test, y_train, y_test = train_test_split(features, target, test_size=0.4, random_state=42)\n",
    "\n",
    "sm1 = XGBRegressor(random_state=42, n_estimators=200, learning_rate=0.3, reg_lambda=0.5, reg_alpha=0.25)\n",
    "%time sm1.fit(X_train, y_train)\n",
    "y_pred = sm1.predict(X_test)\n",
    "r2_1 = r2_score(y_test, y_pred)\n",
    "mae_1 = mean_absolute_error(y_test, y_pred)\n",
    "rmse_1 = mean_squared_error(y_test, y_pred, squared=False)\n",
    "print(f'SM1: R2 = {r2_1}, MAE = {mae_1}, RMSE = {rmse_1}')"
   ]
  },
  {
   "cell_type": "code",
   "execution_count": 130,
   "metadata": {},
   "outputs": [
    {
     "name": "stderr",
     "output_type": "stream",
     "text": [
      "C:\\Users\\mcesp\\AppData\\Local\\Programs\\Python\\Python39\\lib\\site-packages\\sklearn\\base.py:1152: DataConversionWarning: A column-vector y was passed when a 1d array was expected. Please change the shape of y to (n_samples,), for example using ravel().\n",
      "  return fit_method(estimator, *args, **kwargs)\n"
     ]
    },
    {
     "name": "stdout",
     "output_type": "stream",
     "text": [
      "CPU times: total: 188 ms\n",
      "Wall time: 1.13 s\n",
      "SM1: R2 = 0.9945277577046155, MAE = 0.002051517825002513, RMSE = 0.011890295238870021\n"
     ]
    }
   ],
   "source": [
    "import pandas as pd\n",
    "from sklearn.model_selection import train_test_split\n",
    "from sklearn.ensemble import RandomForestRegressor\n",
    "from sklearn.metrics import mean_squared_error, mean_absolute_error, r2_score\n",
    "from sklearn.preprocessing import MinMaxScaler\n",
    "from xgboost import XGBRegressor\n",
    "\n",
    "# Invertir las características con relación inversa a streams\n",
    "spotify_data_normalized['inv_acousticness'] = 1 - spotify_data_normalized['acousticness_%']\n",
    "spotify_data_normalized['inv_instrumentalness'] = 1 - spotify_data_normalized['instrumentalness_%']\n",
    "spotify_data_normalized['inv_liveness'] = 1 - spotify_data_normalized['liveness_%']\n",
    "spotify_data_normalized['inv_speechiness'] = 1 - spotify_data_normalized['speechiness_%']\n",
    "\n",
    "# Seleccionar las características (variables independientes) para el modelo\n",
    "features = spotify_data_normalized[['in_spotify_playlists', 'in_spotify_charts', 'streams',\n",
    "                         'in_apple_playlists', 'in_apple_charts', 'in_deezer_playlists',\n",
    "                         'in_deezer_charts', 'in_shazam_charts', 'bpm', 'danceability_%',\n",
    "                         'valence_%', 'energy_%', 'inv_acousticness', 'inv_instrumentalness',\n",
    "                         'inv_liveness', 'inv_speechiness']]\n",
    "\n",
    "# Seleccionar las variables dependientes (target)\n",
    "target_columns = ['streams']\n",
    "target = spotify_data_normalized[target_columns]\n",
    "\n",
    "# Dividir los datos en conjuntos de entrenamiento y prueba\n",
    "X_train, X_test, y_train, y_test = train_test_split(features, target, test_size=0.4, random_state=42)\n",
    "\n",
    "sm1 = RandomForestRegressor(n_estimators=100, random_state=42)\n",
    "%time sm1.fit(X_train, y_train)\n",
    "y_pred = sm1.predict(X_test)\n",
    "r2_1 = r2_score(y_test, y_pred)\n",
    "mae_1 = mean_absolute_error(y_test, y_pred)\n",
    "rmse_1 = mean_squared_error(y_test, y_pred, squared=False)\n",
    "print(f'SM1: R2 = {r2_1}, MAE = {mae_1}, RMSE = {rmse_1}')"
   ]
  },
  {
   "cell_type": "code",
   "execution_count": null,
   "metadata": {},
   "outputs": [],
   "source": []
  }
 ],
 "metadata": {
  "kernelspec": {
   "display_name": "Python 3 (ipykernel)",
   "language": "python",
   "name": "python3"
  },
  "language_info": {
   "codemirror_mode": {
    "name": "ipython",
    "version": 3
   },
   "file_extension": ".py",
   "mimetype": "text/x-python",
   "name": "python",
   "nbconvert_exporter": "python",
   "pygments_lexer": "ipython3",
   "version": "3.9.13"
  }
 },
 "nbformat": 4,
 "nbformat_minor": 4
}
